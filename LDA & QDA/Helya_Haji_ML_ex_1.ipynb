{
 "cells": [
  {
   "cell_type": "code",
   "execution_count": 8,
   "id": "8912fce6-2d65-49cf-863e-4687ec374c18",
   "metadata": {},
   "outputs": [
    {
     "name": "stdout",
     "output_type": "stream",
     "text": [
      "The accuracy of LDA is: 1.0\n",
      "The loss of LDA is: 0.0\n",
      "The accuracy of QDA is: 1.0\n",
      "The loss of QDA is: 0.0\n"
     ]
    }
   ],
   "source": [
    "def Evaluate(predict,Label):\n",
    "    N = Label.shape[0]\n",
    "    H = predict == Label\n",
    "    Nt = np.sum(H==1)\n",
    "    Accurcy = Nt/N \n",
    "    Loss = 1 - Accurcy \n",
    "    return Accurcy, Loss \n",
    "    \n",
    "\n",
    "import numpy as np \n",
    "import sklearn as sk \n",
    "\n",
    "#### Loading Iris Dataset \n",
    "from sklearn.datasets import load_iris\n",
    "X,L = load_iris(return_X_y=True) \n",
    "\n",
    "\n",
    "### Dividing Dataset to the training and testing sets \n",
    "from sklearn.model_selection import train_test_split\n",
    "X_train, X_test, L_train, L_test = train_test_split(X,L,test_size=0.3)\n",
    "\n",
    "### Standardization on training and testing sets \n",
    "from sklearn.preprocessing import StandardScaler\n",
    "sc = StandardScaler()\n",
    "X_train = sc.fit_transform(X_train)\n",
    "X_test = sc.transform(X_test)\n",
    "\n",
    "### Loading LDA Classifier \n",
    "from sklearn.discriminant_analysis import LinearDiscriminantAnalysis\n",
    "Model_LDA = LinearDiscriminantAnalysis()\n",
    "\n",
    "\n",
    "### Training the classifier model with LDA\n",
    "Model_LDA.fit(X_train,L_train)\n",
    "\n",
    "### Testing the trained model \n",
    "Predict_LDA = Model_LDA.predict(X_test)\n",
    "\n",
    "### Evaluating the Model \n",
    "Accurcy_LDA, Loss_LDA = Evaluate(Predict_LDA,L_test)\n",
    "\n",
    "print(\"The accuracy of LDA is:\",Accurcy_LDA)\n",
    "print(\"The loss of LDA is:\" ,Loss_LDA)\n",
    "\n",
    "### Loading an QDA Model \n",
    "from sklearn.discriminant_analysis import QuadraticDiscriminantAnalysis\n",
    "Model_QDA = QuadraticDiscriminantAnalysis()\n",
    "\n",
    "### Training the QDA Model \n",
    "Model_QDA.fit(X_train,L_train)\n",
    "\n",
    "### Testing the trained model \n",
    "Predict_QDA = Model_QDA.predict(X_test)\n",
    "\n",
    "### Evaluating the Model \n",
    "Accurcy_QDA, Loss_QDA = Evaluate(Predict_QDA,L_test)\n",
    "\n",
    "print(\"The accuracy of QDA is:\" , Accurcy_QDA)\n",
    "print(\"The loss of QDA is:\" , Loss_QDA)"
   ]
  },
  {
   "cell_type": "code",
   "execution_count": null,
   "id": "5f22201a-6eaa-456d-ac5b-5c0488197823",
   "metadata": {},
   "outputs": [],
   "source": []
  },
  {
   "cell_type": "code",
   "execution_count": null,
   "id": "b0c393fb-ebd4-4bf6-b5b5-368366d933d7",
   "metadata": {},
   "outputs": [],
   "source": []
  }
 ],
 "metadata": {
  "kernelspec": {
   "display_name": "Python 3 (ipykernel)",
   "language": "python",
   "name": "python3"
  },
  "language_info": {
   "codemirror_mode": {
    "name": "ipython",
    "version": 3
   },
   "file_extension": ".py",
   "mimetype": "text/x-python",
   "name": "python",
   "nbconvert_exporter": "python",
   "pygments_lexer": "ipython3",
   "version": "3.11.9"
  }
 },
 "nbformat": 4,
 "nbformat_minor": 5
}
