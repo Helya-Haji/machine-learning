{
 "cells": [
  {
   "cell_type": "markdown",
   "id": "329bf1e0-0c66-4baf-add6-2939c03d5e3b",
   "metadata": {},
   "source": [
    "# Machine Learning Exercise 2 "
   ]
  },
  {
   "cell_type": "code",
   "execution_count": 1,
   "id": "080021df-ecaa-46d2-8751-5546275580d7",
   "metadata": {
    "vscode": {
     "languageId": "shellscript"
    }
   },
   "outputs": [],
   "source": [
    "#importing libraries\n",
    "\n",
    "import numpy as np\n",
    "import sklearn as sk\n",
    "import pandas as pd"
   ]
  },
  {
   "cell_type": "code",
   "execution_count": 2,
   "id": "6c246128-97c3-4d3b-b15f-a62066356a4b",
   "metadata": {
    "vscode": {
     "languageId": "shellscript"
    }
   },
   "outputs": [],
   "source": [
    "#loading and reading dataset \n",
    "\n",
    "Link = \"E:\\\\university\\science and research\\machine learning\\تمرین دوم\\data.csv\"\n",
    "\n",
    "Data = pd.read_csv(Link)\n",
    "\n",
    "L = Data.iloc[:,1]\n",
    "L = list(L)\n",
    "L = np.asarray(L)\n",
    "\n",
    "X = Data.iloc[:,2:32]\n",
    "X = X.values "
   ]
  },
  {
   "cell_type": "markdown",
   "id": "33b3ed6f-f4a1-4b87-af91-a92226dc404f",
   "metadata": {},
   "source": [
    "## A: Using KNN & Dividing dataset to the training and testing sets"
   ]
  },
  {
   "cell_type": "code",
   "execution_count": 13,
   "id": "1579765e-f204-4bdc-b326-7d6f396d4746",
   "metadata": {
    "vscode": {
     "languageId": "shellscript"
    }
   },
   "outputs": [
    {
     "name": "stdout",
     "output_type": "stream",
     "text": [
      " the Accuracy for KNN model training with 0.7 of dataset is: 0.9473684210526315\n",
      " the Loss for KNN model training with 0.7 of dataset is: 0.052631578947368474\n"
     ]
    }
   ],
   "source": [
    "### Dividing Dataset to the training and testing sets \n",
    "from sklearn.model_selection import train_test_split\n",
    "X_train_knn_A, X_test_knn_A, L_train_knn_A, L_test_knn_A = train_test_split(X,L,test_size=0.3)\n",
    "\n",
    "### Standardization on training and testing sets \n",
    "from sklearn.preprocessing import StandardScaler\n",
    "sc = StandardScaler()\n",
    "X_train_knn_A = sc.fit_transform(X_train_knn_A)\n",
    "X_test_knn_A = sc.transform(X_test_knn_A)\n",
    "\n",
    "### Loading an KNN Model \n",
    "from sklearn.neighbors import KNeighborsClassifier\n",
    "Model = KNeighborsClassifier(n_neighbors=3) \n",
    "\n",
    "### Training the model \n",
    "Model.fit(X_train_knn_A,L_train_knn_A)\n",
    "\n",
    "### Predicting the testing samples \n",
    "Pre = Model.predict(X_test_knn_A)\n",
    "Score = Model.score(X_test_knn_A,L_test_knn_A)\n",
    "Loss_knn_A = 1 - Score\n",
    "\n",
    "\n",
    "### Evaluating the Model \n",
    "print(\" the Accuracy for KNN model training with 0.7 of dataset is:\",Score)\n",
    "print (\" the Loss for KNN model training with 0.7 of dataset is:\",Loss_knn_A)\n"
   ]
  },
  {
   "cell_type": "markdown",
   "id": "299155dc-c6b3-4154-b364-b018041ff856",
   "metadata": {},
   "source": [
    "## B: Using KNN & K-fold"
   ]
  },
  {
   "cell_type": "code",
   "execution_count": 14,
   "id": "a2b48bb1-d5cc-4acd-a506-01dad8ca7241",
   "metadata": {
    "vscode": {
     "languageId": "shellscript"
    }
   },
   "outputs": [
    {
     "name": "stdout",
     "output_type": "stream",
     "text": [
      "Accuracy for all folds are: [0.9649122807017544, 0.9473684210526315, 0.9824561403508771, 0.9649122807017544, 0.9473684210526315, 0.9649122807017544, 0.9824561403508771, 0.9824561403508771, 0.9824561403508771, 0.9464285714285714]\n",
      "Loss for all folds are: [0.03508771929824561, 0.052631578947368474, 0.01754385964912286, 0.03508771929824561, 0.052631578947368474, 0.03508771929824561, 0.01754385964912286, 0.01754385964912286, 0.01754385964912286, 0.0535714285714286]\n",
      " The average of Accuracies is: 0.9665726817042606\n",
      " The average of Loss is: 0.03342731829573938\n"
     ]
    }
   ],
   "source": [
    "### Loading and training K-fold Model \n",
    "\n",
    "from sklearn.model_selection import KFold \n",
    "\n",
    "kf = KFold(n_splits=10)\n",
    "kf.get_n_splits(X,L)\n",
    "\n",
    "#Model = KNeighborsClassifier(n_neighbors=3) \n",
    "\n",
    "ACC_Whole_knn_B = [] \n",
    "\n",
    "for train_index_knn_B, test_index_knn_B in kf.split(X,L):\n",
    "    X_train_knn_B = X[train_index_knn_B,:]\n",
    "    L_train_knn_B = L[train_index_knn_B]\n",
    "    X_test_knn_B = X[test_index_knn_B,:]\n",
    "    L_test_knn_B = L[test_index_knn_B]\n",
    "    X_train_knn_B = sc.fit_transform(X_train_knn_B)\n",
    "    X_test_knn_B = sc.transform(X_test_knn_B)\n",
    "    Model.fit(X_train_knn_B,L_train_knn_B)\n",
    "    ACC = Model.score(X_test_knn_B,L_test_knn_B)\n",
    "    ACC_Whole_knn_B.append(ACC)\n",
    "\n",
    "\n",
    "ACC_Whole_array_knn_B = np.asarray(ACC_Whole_knn_B)\n",
    "Mean_ACC_knn_B = np.mean(ACC_Whole_array_knn_B) \n",
    "Loss_knn_B = [1 - i for i in ACC_Whole_array_knn_B]\n",
    "Mean_Loss_knn_B = np.mean(Loss_knn_B) \n",
    "\n",
    "print (\"Accuracy for all folds are:\" ,ACC_Whole_knn_B)\n",
    "print (\"Loss for all folds are:\" ,Loss_knn_B)\n",
    "print (\" The average of Accuracies is:\" ,Mean_ACC_knn_B)\n",
    "print(\" The average of Loss is:\" ,Mean_Loss_knn_B)\n"
   ]
  },
  {
   "cell_type": "markdown",
   "id": "e83b41dc-f15b-4503-900a-2b72450f2840",
   "metadata": {},
   "source": [
    "## C: using SVM & Dividing dataset to the training and testing sets"
   ]
  },
  {
   "cell_type": "markdown",
   "id": "a23f184d-738d-4789-afa5-71d3e54f5263",
   "metadata": {},
   "source": [
    "### firt solution:"
   ]
  },
  {
   "cell_type": "code",
   "execution_count": 15,
   "id": "97613169-f154-495d-a42a-bc0e2c0e0a97",
   "metadata": {
    "vscode": {
     "languageId": "shellscript"
    }
   },
   "outputs": [
    {
     "name": "stdout",
     "output_type": "stream",
     "text": [
      "Accuracy of SVM model (SVC) training 0.7 of dataset is: 0.9766081871345029\n",
      "Loss of SVM model (SVC) training 0.7 of dataset is: 0.023391812865497075\n"
     ]
    }
   ],
   "source": [
    "#using SVM & Dividing dataset to the training and testing sets\n",
    "\n",
    "### Dividing Dataset to the training and testing sets \n",
    "X_train_SVM_A, X_test_SVM_A, L_train_SVM_A, L_test_SVM_A = train_test_split(X,L,test_size=0.3)\n",
    "\n",
    "### Standardization on training and testing sets \n",
    "#sc = StandardScaler()\n",
    "X_train_SVM_A = sc.fit_transform(X_train_SVM_A)\n",
    "X_test_SVM_A = sc.transform(X_test_SVM_A)\n",
    "\n",
    "### Loading and training SVM Models\n",
    "from sklearn.svm import SVC \n",
    "Model_SVM = SVC()\n",
    "Model_SVM.fit(X_train_SVM_A,L_train_SVM_A)\n",
    "ACC = Model_SVM.score(X_test_SVM_A,L_test_SVM_A)\n",
    "\n",
    "### Predicting and Evaluating the testing samples \n",
    "Pre_SVM_A = Model_SVM.predict(X_test_SVM_A)\n",
    "Score_SVM_A = Model_SVM.score(X_test_SVM_A,L_test_SVM_A)\n",
    "Loss_SVM_A = 1 - Score_SVM_A\n",
    "\n",
    "print (\"Accuracy of SVM model (SVC) training 0.7 of dataset is:\" ,Score_SVM_A)\n",
    "print (\"Loss of SVM model (SVC) training 0.7 of dataset is:\" ,Loss_SVM_A)\n"
   ]
  },
  {
   "cell_type": "markdown",
   "id": "f6cd9868-3ef5-4a1a-9018-19c4eb7a33cc",
   "metadata": {},
   "source": [
    "## D: Using SVM & K-fold"
   ]
  },
  {
   "cell_type": "markdown",
   "id": "25f49f7d-4e72-4be3-b7bb-fd874af39ccc",
   "metadata": {},
   "source": [
    "### firt solution:"
   ]
  },
  {
   "cell_type": "code",
   "execution_count": 16,
   "id": "a03caa94-6763-4630-8f15-9d0b86948b00",
   "metadata": {
    "vscode": {
     "languageId": "shellscript"
    }
   },
   "outputs": [
    {
     "name": "stdout",
     "output_type": "stream",
     "text": [
      "Accuracy for all folds training with SVC are: [0.9824561403508771, 0.9473684210526315, 0.9473684210526315, 1.0, 0.9649122807017544, 0.9824561403508771, 1.0, 0.9824561403508771, 1.0, 0.9642857142857143]\n",
      "Loss for all folds training with SVC are: [0.01754385964912286, 0.052631578947368474, 0.052631578947368474, 0.0, 0.03508771929824561, 0.01754385964912286, 0.0, 0.01754385964912286, 0.0, 0.0357142857142857]\n",
      " The average of Accuracy for SVC model is: 0.9771303258145363\n",
      " The average of Loss for SVC model is: 0.022869674185463686\n"
     ]
    }
   ],
   "source": [
    "### K-fold Model \n",
    "\n",
    "kf = KFold(n_splits=10)\n",
    "kf.get_n_splits(X,L)\n",
    "\n",
    "#sc = StandardScaler()\n",
    "#Model_SVM = SVC()\n",
    "\n",
    "ACC_Whole_SVM_B = [] \n",
    "\n",
    "for train_index_SVM_B, test_index_SVM_B in kf.split(X,L):\n",
    "    X_train_SVM_B = X[train_index_SVM_B,:]\n",
    "    L_train_SVM_B = L[train_index_SVM_B]\n",
    "    X_test_SVM_B = X[test_index_SVM_B,:]\n",
    "    L_test_SVM_B = L[test_index_SVM_B]\n",
    "    X_train_SVM_B = sc.fit_transform(X_train_SVM_B)\n",
    "    X_test_SVM_B = sc.transform(X_test_SVM_B)\n",
    "    Model_SVM.fit(X_train_SVM_B,L_train_SVM_B)\n",
    "    ACC = Model_SVM.score(X_test_SVM_B,L_test_SVM_B)\n",
    "    ACC_Whole_SVM_B.append(ACC)\n",
    "\n",
    "\n",
    "ACC_Whole_array_SVM_B = np.asarray(ACC_Whole_SVM_B)\n",
    "Mean_ACC_SVM_B = np.mean(ACC_Whole_array_SVM_B) \n",
    "Loss_SVM_B = [1 - i for i in ACC_Whole_array_SVM_B]\n",
    "Mean_Loss_SVM_B = np.mean(Loss_SVM_B) \n",
    "\n",
    "print (\"Accuracy for all folds training with SVC are:\" ,ACC_Whole_SVM_B)\n",
    "print (\"Loss for all folds training with SVC are:\" ,Loss_SVM_B)\n",
    "print (\" The average of Accuracy for SVC model is:\" ,Mean_ACC_SVM_B)\n",
    "print(\" The average of Loss for SVC model is:\" ,Mean_Loss_SVM_B)"
   ]
  },
  {
   "cell_type": "markdown",
   "id": "58a134b7-b74f-4cd8-a6a5-0d0acd374822",
   "metadata": {},
   "source": [
    "## Summarizing the results"
   ]
  },
  {
   "cell_type": "code",
   "execution_count": 17,
   "id": "a4da27ad-8e8d-4d4e-a544-483a16aab377",
   "metadata": {
    "vscode": {
     "languageId": "shellscript"
    }
   },
   "outputs": [
    {
     "name": "stdout",
     "output_type": "stream",
     "text": [
      " The Accuracy for part A is: 0.9473684210526315\n",
      " The Accuracy for part B is: 0.9665726817042606\n",
      " The Accuracy for part C is: 0.9766081871345029\n",
      " The Accuracy for part D is: 0.9771303258145363\n"
     ]
    },
    {
     "data": {
      "image/png": "[encoded data removed]",
      "text/plain": [
       "<Figure size 800x600 with 1 Axes>"
      ]
     },
     "metadata": {},
     "output_type": "display_data"
    }
   ],
   "source": [
    "\n",
    "print(\" The Accuracy for part A is:\" ,Score)\n",
    "print(\" The Accuracy for part B is:\" ,Mean_ACC_knn_B)\n",
    "print(\" The Accuracy for part C is:\" ,Score_SVM_A)\n",
    "print(\" The Accuracy for part D is:\", Mean_ACC_SVM_B)\n",
    "\n",
    "\n",
    "\n",
    "\n",
    "import matplotlib.pyplot as plt\n",
    "\n",
    "# dictionary\n",
    "data = {'A_Acuracy': Score, 'B_Acuracy': Mean_ACC_knn_B, 'C_Acuracy': Score_SVM_A, 'D_Acuracy': Mean_ACC_SVM_B}\n",
    "\n",
    "# Bar chart\n",
    "plt.figure(figsize=(8, 6))\n",
    "plt.bar(data.keys(), data.values(), color='lightblue')\n",
    "plt.ylim(0.9000, 0.9999)\n",
    "plt.xlabel('Categories')\n",
    "plt.ylabel('Values')\n",
    "plt.title('Accuracies obtained in parts A to D')\n",
    "plt.show()"
   ]
  },
  {
   "cell_type": "markdown",
   "id": "5e4818e8-66cc-4ae7-8086-05f0b55d5fd2",
   "metadata": {},
   "source": [
    "### second solution-C:"
   ]
  },
  {
   "cell_type": "code",
   "execution_count": 18,
   "id": "75188e8b-bf08-4c80-b2ba-3037d123de6a",
   "metadata": {
    "vscode": {
     "languageId": "shellscript"
    }
   },
   "outputs": [
    {
     "name": "stdout",
     "output_type": "stream",
     "text": [
      "Accuracy of SVC model using Linear kernel is: 0.9766081871345029\n",
      "Accuracy of SVC model using RBF kernel is: 0.9707602339181286\n",
      "Accuracy of SVC model using Polynomial kernel is: 0.783625730994152\n",
      "Loss of SVC model using Linear kernel is: 0.023391812865497075\n",
      "Loss of SVC model using RBF kernel is: 0.0292397660818714\n",
      "Loss of SVC model using Polynomial kernel is: 0.216374269005848\n"
     ]
    }
   ],
   "source": [
    "#using SVM & Dividing dataset to the training and testing sets\n",
    "\n",
    "### Dividing Dataset to the training and testing sets \n",
    "X_train_SVM_A_2, X_test_SVM_A_2, L_train_SVM_A_2, L_test_SVM_A_2 = train_test_split(X,L,test_size=0.3)\n",
    "\n",
    "### Standardization on training and testing sets \n",
    "X_train_SVM_A_2 = sc.fit_transform(X_train_SVM_A_2)\n",
    "X_test_SVM_A_2 = sc.transform(X_test_SVM_A_2)\n",
    "\n",
    "### Loading SVM Models\n",
    "from sklearn.svm import SVC \n",
    "LIN_SVM_Model_A_2 = SVC(kernel='linear')\n",
    "RBF_SVM_Model_A_2 = SVC(kernel='rbf')\n",
    "POL_SVM_Model_A_2 = SVC(kernel='poly',degree=2)\n",
    "\n",
    "### Training the Models \n",
    "LIN_SVM_Model_A_2.fit(X_train_SVM_A_2,L_train_SVM_A_2)\n",
    "RBF_SVM_Model_A_2.fit(X_train_SVM_A_2,L_train_SVM_A_2)\n",
    "POL_SVM_Model_A_2.fit(X_train_SVM_A_2,L_train_SVM_A_2)\n",
    "\n",
    "### Predicting the testing samples \n",
    "Pre_LIN_SVM_A_2 = LIN_SVM_Model_A_2.predict(X_test_SVM_A_2)\n",
    "Pre_RBF_SVM_A_2 = RBF_SVM_Model_A_2.predict(X_test_SVM_A_2)\n",
    "Pre_POL_SVM_A_2 = POL_SVM_Model_A_2.predict(X_test_SVM_A_2)\n",
    "\n",
    "### Evaluating the trained models \n",
    "SC_LIN_SVM_A_2 = LIN_SVM_Model_A_2.score(X_test_SVM_A_2,L_test_SVM_A_2)\n",
    "SC_RBF_SVM_A_2 = RBF_SVM_Model_A_2.score(X_test_SVM_A_2,L_test_SVM_A_2)\n",
    "SC_POL_SVM_A_2 = POL_SVM_Model_A_2.score(X_test_SVM_A_2,L_test_SVM_A_2)\n",
    "\n",
    "print (\"Accuracy of SVC model using Linear kernel is:\" ,SC_LIN_SVM_A_2)\n",
    "print (\"Accuracy of SVC model using RBF kernel is:\" ,SC_RBF_SVM_A_2)\n",
    "print (\"Accuracy of SVC model using Polynomial kernel is:\" ,SC_POL_SVM_A_2)\n",
    "\n",
    "Loss_LIN_SVM_A_2 = 1 - SC_LIN_SVM_A_2\n",
    "Loss_RBF_SVM_A_2 = 1 - SC_RBF_SVM_A_2\n",
    "Loss_POL_SVM_A_2 = 1 - SC_POL_SVM_A_2\n",
    "\n",
    "print (\"Loss of SVC model using Linear kernel is:\" ,Loss_LIN_SVM_A_2)\n",
    "print (\"Loss of SVC model using RBF kernel is:\" ,Loss_RBF_SVM_A_2)\n",
    "print (\"Loss of SVC model using Polynomial kernel is:\" ,Loss_POL_SVM_A_2)"
   ]
  },
  {
   "cell_type": "markdown",
   "id": "5dde8ce4-9d84-4202-86f2-9824bfcb2f87",
   "metadata": {},
   "source": [
    "### second solution-D:"
   ]
  },
  {
   "cell_type": "code",
   "execution_count": 19,
   "id": "9be8e9a4-ceab-403c-87ad-335f136b2f1b",
   "metadata": {
    "vscode": {
     "languageId": "shellscript"
    }
   },
   "outputs": [
    {
     "name": "stdout",
     "output_type": "stream",
     "text": [
      "\n",
      "Training with linear kernel:\n",
      "Accuracy for all folds: [0.9824561403508771, 0.9473684210526315, 0.9473684210526315, 1.0, 0.9649122807017544, 0.9824561403508771, 1.0, 0.9824561403508771, 1.0, 0.9642857142857143]\n",
      "Loss for all folds: []\n",
      "Mean Accuracy: 0.9771303258145363\n",
      "Mean Loss: 0.022869674185463706\n",
      "\n",
      "Training with rbf kernel:\n",
      "Accuracy for all folds: [0.9824561403508771, 0.9473684210526315, 0.9473684210526315, 1.0, 0.9649122807017544, 0.9824561403508771, 1.0, 0.9824561403508771, 1.0, 0.9642857142857143]\n",
      "Loss for all folds: []\n",
      "Mean Accuracy: 0.9771303258145363\n",
      "Mean Loss: 0.022869674185463706\n",
      "\n",
      "Training with poly kernel:\n",
      "Accuracy for all folds: [0.9824561403508771, 0.9473684210526315, 0.9473684210526315, 1.0, 0.9649122807017544, 0.9824561403508771, 1.0, 0.9824561403508771, 1.0, 0.9642857142857143]\n",
      "Loss for all folds: []\n",
      "Mean Accuracy: 0.9771303258145363\n",
      "Mean Loss: 0.022869674185463706\n"
     ]
    }
   ],
   "source": [
    "kf = KFold(n_splits=10)\n",
    "kf.get_n_splits(X,L)\n",
    "\n",
    "# Define kernels to use\n",
    "kernels = ['linear', 'rbf', 'poly']\n",
    "results = {}\n",
    "\n",
    "for kernel in kernels:\n",
    "    print(f\"\\nTraining with {kernel} kernel:\")\n",
    "    \n",
    "    # Initialize the SVM model with the current kernel\n",
    "    model_SVM = SVC(kernel=kernel)\n",
    "    \n",
    "    # Initialize lists to store accuracy and loss for each fold\n",
    "    ACC_Whole_SVM_B_2 = []\n",
    "    Loss_SVM_B_2 = []\n",
    "    \n",
    "    # Perform K-Fold Cross-Validation\n",
    "    for train_index_SVM_B_2, test_index_SVM_B_2 in kf.split(X,L):\n",
    "        X_train_SVM_B_2 = X[train_index_SVM_B_2,:]\n",
    "        L_train_SVM_B_2 = L[train_index_SVM_B_2]\n",
    "        X_test_SVM_B_2 = X[test_index_SVM_B_2,:]\n",
    "        L_test_SVM_B_2 = L[test_index_SVM_B_2]\n",
    "        X_train_SVM_B_2 = sc.fit_transform(X_train_SVM_B_2)\n",
    "        X_test_SVM_B_2 = sc.transform(X_test_SVM_B_2)\n",
    "        Model_SVM.fit(X_train_SVM_B_2,L_train_SVM_B_2)\n",
    "        ACC = Model_SVM.score(X_test_SVM_B_2,L_test_SVM_B_2)\n",
    "        ACC_Whole_SVM_B_2.append(ACC)\n",
    "    \n",
    "    # Calculate mean accuracy and mean loss for the current kernel\n",
    "    Mean_ACC_SVM_B_2 = np.mean(ACC_Whole_SVM_B_2)\n",
    "    Mean_Loss_SVM_B_2 = 1 - Mean_ACC_SVM_B_2\n",
    "    \n",
    "    # Store the results in a dictionary for each kernel\n",
    "    results[kernel] = {\n",
    "        \"Accuracy per fold\": ACC_Whole_SVM_B_2,\n",
    "        \"Loss per fold\": Loss_SVM_B_2,\n",
    "        \"Mean Accuracy\": Mean_ACC_SVM_B_2,\n",
    "        \"Mean Loss\": Mean_Loss_SVM_B_2\n",
    "    }\n",
    "    \n",
    "    # Print results for each kernel\n",
    "    print(\"Accuracy for all folds:\", ACC_Whole_SVM_B_2)\n",
    "    print(\"Loss for all folds:\", Loss_SVM_B_2)\n",
    "    print(\"Mean Accuracy:\", Mean_ACC_SVM_B_2)\n",
    "    print(\"Mean Loss:\", Mean_Loss_SVM_B_2)\n"
   ]
  },
  {
   "cell_type": "code",
   "execution_count": null,
   "id": "92f8e9e8-49ff-4010-97dc-d94e2b29cd27",
   "metadata": {
    "vscode": {
     "languageId": "shellscript"
    }
   },
   "outputs": [],
   "source": []
  },
  {
   "cell_type": "code",
   "execution_count": null,
   "id": "87b9e23b-c387-4b0e-9776-9e20419528a1",
   "metadata": {
    "vscode": {
     "languageId": "shellscript"
    }
   },
   "outputs": [],
   "source": []
  }
 ],
 "metadata": {
  "kernelspec": {
   "display_name": "Python 3 (ipykernel)",
   "language": "python",
   "name": "python3"
  },
  "language_info": {
   "codemirror_mode": {
    "name": "ipython",
    "version": 3
   },
   "file_extension": ".py",
   "mimetype": "text/x-python",
   "name": "python",
   "nbconvert_exporter": "python",
   "pygments_lexer": "ipython3",
   "version": "3.11.9"
  }
 },
 "nbformat": 4,
 "nbformat_minor": 5
}
